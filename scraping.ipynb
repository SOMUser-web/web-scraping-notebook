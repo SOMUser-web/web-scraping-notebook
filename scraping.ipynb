import requests
from bs4 import BeautifulSoup

# URL der Webseite
url = 'https://www.suedostschweiz.ch'

# HTTP-Request senden, um den Inhalt der Seite abzurufen
response = requests.get(url)
response.raise_for_status()  # Fehler bei fehlgeschlagenen Anfragen abfangen

# BeautifulSoup verwenden, um den HTML-Inhalt zu analysieren
soup = BeautifulSoup(response.text, 'html.parser')

# Headlines extrahieren - hier wird nach <h2> und <h3> Tags gesucht
headlines = [headline.get_text().strip() for headline in soup.find_all(['h2', 'h3'])]

# Beschreibungen extrahieren - hier wird nach <p> (Paragraphen) Tags gesucht
descriptions = [desc.get_text().strip() for desc in soup.find_all('p')]

# 15 Headlines und 4 Beschreibungen holen
selected_headlines = headlines[:15]
selected_descriptions = descriptions[:4]

# Ergebnis anzeigen
print("Headlines:")
for i, headline in enumerate(selected_headlines, 1):
    print(f"{i}. {headline}")

print("\nDescriptions:")
for i, description in enumerate(selected_descriptions, 1):
    print(f"{i}. {description}")
